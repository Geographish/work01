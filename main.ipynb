{
 "cells": [
  {
   "cell_type": "code",
   "execution_count": 2,
   "metadata": {},
   "outputs": [],
   "source": [
    "from selenium import webdriver\n",
    "from dataclasses import dataclass\n",
    "import json \n",
    "from selenium.webdriver.chrome.options import Options\n"
   ]
  },
  {
   "cell_type": "code",
   "execution_count": 3,
   "metadata": {},
   "outputs": [],
   "source": [
    "@dataclass\n",
    "class Link():\n",
    "  homePage = r'https://ccsnews.ncl.edu.tw/gis/#/gis'\n",
    "  detailByTypeCodeAPI = r'https://ccsnews.ncl.edu.tw/api/v1/gis/detailByTypeCode'\n",
    "  \n",
    "  def counter(self, id) :\n",
    "    return f\"https://ccsnews.ncl.edu.tw/api/v1/gis/news/counter/{id}\"\n",
    "\n",
    "@dataclass\n",
    "class FilePath():\n",
    "  db = r'objectData.json'\n",
    "  dataOut = r'./d.json'\n",
    "  jsCode = r'./fetchData.js'\n",
    "\n",
    "link = Link()\n",
    "filePath = FilePath()\n",
    "db = None\n",
    "\n",
    "jsCode = None\n"
   ]
  },
  {
   "cell_type": "code",
   "execution_count": null,
   "metadata": {},
   "outputs": [],
   "source": [
    "firefox_options = Options() \n",
    "firefox_options.add_argument('--headless')  # 啟動Headless 無頭\n",
    "firefox_options.add_argument('--disable-gpu') #關閉GPU 避免某些系統或是網頁出錯\n",
    "firefox_binary=r'C:\\Program Files\\WindowsApps\\Mozilla.Firefox_109.0.1.0_x64__n80bbvh6b1yt2\\VFS\\ProgramFiles\\Firefox Package Root\\firefox.exe'\n",
    "\n",
    "fp = webdriver.FirefoxProfile()\n",
    "fp.set_preference(\"http.response.timeout\", 5)\n",
    "fp.set_preference(\"dom.max_script_run_time\", 5)\n",
    "# driver = webdriver.Firefox(firefox_binary=firefox_binary)\n",
    "\n",
    "driver = webdriver.Chrome()\n",
    "driver.get(link.homePage)\n",
    "\n"
   ]
  },
  {
   "cell_type": "code",
   "execution_count": 6,
   "metadata": {},
   "outputs": [],
   "source": [
    "with open(filePath.db, 'r') as f:\n",
    "  db = json.loads(f.read())[\"subjectData\"]"
   ]
  },
  {
   "cell_type": "code",
   "execution_count": 22,
   "metadata": {},
   "outputs": [],
   "source": [
    "def jsDetailByTypeCodeReq(begin,endInclude=None):\n",
    "    if endInclude == None:\n",
    "        endInclude = begin\n",
    "    return '''    \n",
    "async function fetchData() {\n",
    "    let subjectData = JSON.parse(localStorage.getItem('subjectData'))\n",
    "    let dbData = []\n",
    "    let p = []\n",
    "\n",
    "    var headers = {\n",
    "        \"Content-Type\": \"application/json\",\n",
    "        \"Accept\": \"application/json\",\n",
    "    }\n",
    "    \n",
    "    var url = `https://ccsnews.ncl.edu.tw/api/v1/gis/detailByTypeCode`\n",
    "    \n",
    "    var body = [{\n",
    "        \"sn\": 19380,\n",
    "        \"code\": \"05\"\n",
    "    }]\n",
    "\n",
    "    for (i in subjectData) {\n",
    "        if (''' + str(begin) + '''<=i && i<=''' + str(endInclude) + ''') { \n",
    "\n",
    "        } else {\n",
    "            continue\n",
    "        };\n",
    "\n",
    "        let el = subjectData[i]\n",
    "        let data = {\n",
    "            \"sn\": el.sn,\n",
    "            \"typeCode\": el.code\n",
    "        }\n",
    "        console.log(el.sn)\n",
    "        p.push(detailByTypeCodeReq(data))\n",
    "\n",
    "    }\n",
    "\n",
    "\n",
    "    let rep = await Promise.all(p)\n",
    "    return (JSON.stringify(rep))\n",
    "\n",
    "\n",
    "    async function detailByTypeCodeReq(data) {\n",
    "        let req = await fetch(url, {\n",
    "            method: \"post\",\n",
    "            headers: headers,\n",
    "            body: JSON.stringify(data)\n",
    "        })\n",
    "        data = await req.json()\n",
    "        return data\n",
    "    }\n",
    "}\n",
    "\n",
    "let s = await fetchData()\n",
    "// console.log(s)\n",
    "return s\n",
    "\n",
    "'''"
   ]
  },
  {
   "cell_type": "code",
   "execution_count": 23,
   "metadata": {},
   "outputs": [
    {
     "data": {
      "text/plain": [
       "24561"
      ]
     },
     "execution_count": 23,
     "metadata": {},
     "output_type": "execute_result"
    }
   ],
   "source": [
    "len(db)"
   ]
  },
  {
   "cell_type": "code",
   "execution_count": 55,
   "metadata": {},
   "outputs": [],
   "source": [
    "f = open(\"data.json\",'a',encoding='utf8')\n"
   ]
  },
  {
   "cell_type": "code",
   "execution_count": 56,
   "metadata": {},
   "outputs": [
    {
     "data": {
      "text/plain": [
       "1"
      ]
     },
     "execution_count": 56,
     "metadata": {},
     "output_type": "execute_result"
    }
   ],
   "source": [
    "f.write('[')\n"
   ]
  },
  {
   "cell_type": "code",
   "execution_count": null,
   "metadata": {},
   "outputs": [],
   "source": [
    "\n",
    "for i in range(0,24561 + 1):\n",
    "    # print(f\"{i}\",end='')\n",
    "\n",
    "\n",
    "    data = driver.execute_script(jsDetailByTypeCodeReq(i))\n",
    "\n",
    "    f.write(data + ',')\n",
    "    # with open(f'./d.json', 'a', encoding='utf8') as f:\n",
    "    #     f.write(data + ',')\n",
    "\n",
    "\n"
   ]
  },
  {
   "cell_type": "code",
   "execution_count": 53,
   "metadata": {},
   "outputs": [
    {
     "data": {
      "text/plain": [
       "1"
      ]
     },
     "execution_count": 53,
     "metadata": {},
     "output_type": "execute_result"
    }
   ],
   "source": [
    "f.write(']')\n"
   ]
  },
  {
   "cell_type": "code",
   "execution_count": 54,
   "metadata": {},
   "outputs": [],
   "source": [
    "f.close()"
   ]
  }
 ],
 "metadata": {
  "kernelspec": {
   "display_name": "Python 3",
   "language": "python",
   "name": "python3"
  },
  "language_info": {
   "codemirror_mode": {
    "name": "ipython",
    "version": 3
   },
   "file_extension": ".py",
   "mimetype": "text/x-python",
   "name": "python",
   "nbconvert_exporter": "python",
   "pygments_lexer": "ipython3",
   "version": "3.11.1"
  },
  "orig_nbformat": 4,
  "vscode": {
   "interpreter": {
    "hash": "4bcea2a0b46432e51ff2edbf9987a2fe9be00450205bd7118a30af45dceb8195"
   }
  }
 },
 "nbformat": 4,
 "nbformat_minor": 2
}
