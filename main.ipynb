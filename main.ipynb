{
 "cells": [
  {
   "cell_type": "code",
   "execution_count": 2,
   "metadata": {},
   "outputs": [],
   "source": [
    "from selenium import webdriver\n",
    "from dataclasses import dataclass\n",
    "import json \n",
    "from selenium.webdriver.chrome.options import Options\n"
   ]
  },
  {
   "cell_type": "code",
   "execution_count": 3,
   "metadata": {},
   "outputs": [],
   "source": [
    "@dataclass\n",
    "class Link():\n",
    "  homePage = r'https://ccsnews.ncl.edu.tw/gis/#/gis'\n",
    "  detailByTypeCodeAPI = r'https://ccsnews.ncl.edu.tw/api/v1/gis/detailByTypeCode'\n",
    "  \n",
    "  def counter(self, id) :\n",
    "    return f\"https://ccsnews.ncl.edu.tw/api/v1/gis/news/counter/{id}\"\n",
    "\n",
    "@dataclass\n",
    "class FilePath():\n",
    "  db = r'objectData.json'\n",
    "  dataOut = r'./d.json'\n",
    "  jsCode = r'./fetchData.js'\n",
    "\n",
    "link = Link()\n",
    "filePath = FilePath()\n",
    "db = None\n",
    "\n",
    "jsCode = None\n"
   ]
  },
  {
   "cell_type": "code",
   "execution_count": 4,
   "metadata": {},
   "outputs": [
    {
     "name": "stderr",
     "output_type": "stream",
     "text": [
      "C:\\Users\\alvin\\AppData\\Local\\Temp\\ipykernel_20652\\1397047014.py:6: DeprecationWarning: firefox_profile has been deprecated, please use an Options object\n",
      "  fp = webdriver.FirefoxProfile()\n"
     ]
    }
   ],
   "source": [
    "firefox_options = Options() \n",
    "firefox_options.add_argument('--headless')  # 啟動Headless 無頭\n",
    "firefox_options.add_argument('--disable-gpu') #關閉GPU 避免某些系統或是網頁出錯\n",
    "firefox_binary=r'C:\\Program Files\\WindowsApps\\Mozilla.Firefox_109.0.1.0_x64__n80bbvh6b1yt2\\VFS\\ProgramFiles\\Firefox Package Root\\firefox.exe'\n",
    "\n",
    "fp = webdriver.FirefoxProfile()\n",
    "fp.set_preference(\"http.response.timeout\", 5)\n",
    "fp.set_preference(\"dom.max_script_run_time\", 5)\n",
    "# driver = webdriver.Firefox(firefox_binary=firefox_binary)\n",
    "\n",
    "driver = webdriver.Chrome()\n",
    "driver.get(link.homePage)\n",
    "\n"
   ]
  },
  {
   "cell_type": "code",
   "execution_count": 6,
   "metadata": {},
   "outputs": [],
   "source": [
    "with open(filePath.db, 'r') as f:\n",
    "  db = json.loads(f.read())[\"subjectData\"]"
   ]
  },
  {
   "cell_type": "code",
   "execution_count": 22,
   "metadata": {},
   "outputs": [],
   "source": [
    "def jsDetailByTypeCodeReq(begin,endInclude=None):\n",
    "    if endInclude == None:\n",
    "        endInclude = begin\n",
    "    return '''    \n",
    "async function fetchData() {\n",
    "    let subjectData = JSON.parse(localStorage.getItem('subjectData'))\n",
    "    let dbData = []\n",
    "    let p = []\n",
    "\n",
    "    var headers = {\n",
    "        \"Content-Type\": \"application/json\",\n",
    "        \"Accept\": \"application/json\",\n",
    "    }\n",
    "    \n",
    "    var url = `https://ccsnews.ncl.edu.tw/api/v1/gis/detailByTypeCode`\n",
    "    \n",
    "    var body = [{\n",
    "        \"sn\": 19380,\n",
    "        \"code\": \"05\"\n",
    "    }]\n",
    "\n",
    "    for (i in subjectData) {\n",
    "        if (''' + str(begin) + '''<=i && i<=''' + str(endInclude) + ''') { \n",
    "\n",
    "        } else {\n",
    "            continue\n",
    "        };\n",
    "\n",
    "        let el = subjectData[i]\n",
    "        let data = {\n",
    "            \"sn\": el.sn,\n",
    "            \"typeCode\": el.code\n",
    "        }\n",
    "        console.log(el.sn)\n",
    "        p.push(detailByTypeCodeReq(data))\n",
    "\n",
    "    }\n",
    "\n",
    "\n",
    "    let rep = await Promise.all(p)\n",
    "    return (JSON.stringify(rep))\n",
    "\n",
    "\n",
    "    async function detailByTypeCodeReq(data) {\n",
    "        let req = await fetch(url, {\n",
    "            method: \"post\",\n",
    "            headers: headers,\n",
    "            body: JSON.stringify(data)\n",
    "        })\n",
    "        data = await req.json()\n",
    "        return data\n",
    "    }\n",
    "}\n",
    "\n",
    "let s = await fetchData()\n",
    "// console.log(s)\n",
    "return s\n",
    "\n",
    "'''"
   ]
  },
  {
   "cell_type": "code",
   "execution_count": 23,
   "metadata": {},
   "outputs": [
    {
     "data": {
      "text/plain": [
       "24561"
      ]
     },
     "execution_count": 23,
     "metadata": {},
     "output_type": "execute_result"
    }
   ],
   "source": [
    "len(db)"
   ]
  },
  {
   "cell_type": "code",
   "execution_count": 55,
   "metadata": {},
   "outputs": [],
   "source": [
    "f = open(\"data.json\",'a',encoding='utf8')\n"
   ]
  },
  {
   "cell_type": "code",
   "execution_count": 56,
   "metadata": {},
   "outputs": [
    {
     "data": {
      "text/plain": [
       "1"
      ]
     },
     "execution_count": 56,
     "metadata": {},
     "output_type": "execute_result"
    }
   ],
   "source": [
    "f.write('[')\n"
   ]
  },
  {
   "cell_type": "code",
   "execution_count": 57,
   "metadata": {},
   "outputs": [
    {
     "ename": "TimeoutException",
     "evalue": "Message: script timeout\n  (Session info: chrome=109.0.5414.120)\nStacktrace:\nBacktrace:\n\t(No symbol) [0x007A6643]\n\t(No symbol) [0x0073BE21]\n\t(No symbol) [0x0063D960]\n\t(No symbol) [0x006A7A23]\n\t(No symbol) [0x0068FD7C]\n\t(No symbol) [0x006A6B09]\n\t(No symbol) [0x0068FB76]\n\t(No symbol) [0x006649C1]\n\t(No symbol) [0x00665E5D]\n\tGetHandleVerifier [0x00A1A142+2497106]\n\tGetHandleVerifier [0x00A485D3+2686691]\n\tGetHandleVerifier [0x00A4BB9C+2700460]\n\tGetHandleVerifier [0x00853B10+635936]\n\t(No symbol) [0x00744A1F]\n\t(No symbol) [0x0074A418]\n\t(No symbol) [0x0074A505]\n\t(No symbol) [0x0075508B]\n\tBaseThreadInitThunk [0x763E6BD9+25]\n\tRtlGetFullPathName_UEx [0x77598FD2+1218]\n\tRtlGetFullPathName_UEx [0x77598F9D+1165]\n",
     "output_type": "error",
     "traceback": [
      "\u001b[1;31m---------------------------------------------------------------------------\u001b[0m",
      "\u001b[1;31mTimeoutException\u001b[0m                          Traceback (most recent call last)",
      "Cell \u001b[1;32mIn[57], line 5\u001b[0m\n\u001b[0;32m      1\u001b[0m \u001b[39mfor\u001b[39;00m i \u001b[39min\u001b[39;00m \u001b[39mrange\u001b[39m(\u001b[39m0\u001b[39m,\u001b[39m24561\u001b[39m \u001b[39m+\u001b[39m \u001b[39m1\u001b[39m):\n\u001b[0;32m      2\u001b[0m     \u001b[39m# print(f\"{i}\",end='')\u001b[39;00m\n\u001b[1;32m----> 5\u001b[0m     data \u001b[39m=\u001b[39m driver\u001b[39m.\u001b[39;49mexecute_script(jsDetailByTypeCodeReq(i))\n\u001b[0;32m      7\u001b[0m     f\u001b[39m.\u001b[39mwrite(data \u001b[39m+\u001b[39m \u001b[39m'\u001b[39m\u001b[39m,\u001b[39m\u001b[39m'\u001b[39m)\n\u001b[0;32m      8\u001b[0m     \u001b[39m# with open(f'./d.json', 'a', encoding='utf8') as f:\u001b[39;00m\n\u001b[0;32m      9\u001b[0m     \u001b[39m#     f.write(data + ',')\u001b[39;00m\n",
      "File \u001b[1;32mc:\\Users\\alvin\\scoop\\apps\\python\\current\\Lib\\site-packages\\selenium\\webdriver\\remote\\webdriver.py:500\u001b[0m, in \u001b[0;36mWebDriver.execute_script\u001b[1;34m(self, script, *args)\u001b[0m\n\u001b[0;32m    497\u001b[0m converted_args \u001b[39m=\u001b[39m \u001b[39mlist\u001b[39m(args)\n\u001b[0;32m    498\u001b[0m command \u001b[39m=\u001b[39m Command\u001b[39m.\u001b[39mW3C_EXECUTE_SCRIPT\n\u001b[1;32m--> 500\u001b[0m \u001b[39mreturn\u001b[39;00m \u001b[39mself\u001b[39;49m\u001b[39m.\u001b[39;49mexecute(command, {\u001b[39m\"\u001b[39;49m\u001b[39mscript\u001b[39;49m\u001b[39m\"\u001b[39;49m: script, \u001b[39m\"\u001b[39;49m\u001b[39margs\u001b[39;49m\u001b[39m\"\u001b[39;49m: converted_args})[\u001b[39m\"\u001b[39m\u001b[39mvalue\u001b[39m\u001b[39m\"\u001b[39m]\n",
      "File \u001b[1;32mc:\\Users\\alvin\\scoop\\apps\\python\\current\\Lib\\site-packages\\selenium\\webdriver\\remote\\webdriver.py:440\u001b[0m, in \u001b[0;36mWebDriver.execute\u001b[1;34m(self, driver_command, params)\u001b[0m\n\u001b[0;32m    438\u001b[0m response \u001b[39m=\u001b[39m \u001b[39mself\u001b[39m\u001b[39m.\u001b[39mcommand_executor\u001b[39m.\u001b[39mexecute(driver_command, params)\n\u001b[0;32m    439\u001b[0m \u001b[39mif\u001b[39;00m response:\n\u001b[1;32m--> 440\u001b[0m     \u001b[39mself\u001b[39;49m\u001b[39m.\u001b[39;49merror_handler\u001b[39m.\u001b[39;49mcheck_response(response)\n\u001b[0;32m    441\u001b[0m     response[\u001b[39m\"\u001b[39m\u001b[39mvalue\u001b[39m\u001b[39m\"\u001b[39m] \u001b[39m=\u001b[39m \u001b[39mself\u001b[39m\u001b[39m.\u001b[39m_unwrap_value(response\u001b[39m.\u001b[39mget(\u001b[39m\"\u001b[39m\u001b[39mvalue\u001b[39m\u001b[39m\"\u001b[39m, \u001b[39mNone\u001b[39;00m))\n\u001b[0;32m    442\u001b[0m     \u001b[39mreturn\u001b[39;00m response\n",
      "File \u001b[1;32mc:\\Users\\alvin\\scoop\\apps\\python\\current\\Lib\\site-packages\\selenium\\webdriver\\remote\\errorhandler.py:245\u001b[0m, in \u001b[0;36mErrorHandler.check_response\u001b[1;34m(self, response)\u001b[0m\n\u001b[0;32m    243\u001b[0m         alert_text \u001b[39m=\u001b[39m value[\u001b[39m\"\u001b[39m\u001b[39malert\u001b[39m\u001b[39m\"\u001b[39m]\u001b[39m.\u001b[39mget(\u001b[39m\"\u001b[39m\u001b[39mtext\u001b[39m\u001b[39m\"\u001b[39m)\n\u001b[0;32m    244\u001b[0m     \u001b[39mraise\u001b[39;00m exception_class(message, screen, stacktrace, alert_text)  \u001b[39m# type: ignore[call-arg]  # mypy is not smart enough here\u001b[39;00m\n\u001b[1;32m--> 245\u001b[0m \u001b[39mraise\u001b[39;00m exception_class(message, screen, stacktrace)\n",
      "\u001b[1;31mTimeoutException\u001b[0m: Message: script timeout\n  (Session info: chrome=109.0.5414.120)\nStacktrace:\nBacktrace:\n\t(No symbol) [0x007A6643]\n\t(No symbol) [0x0073BE21]\n\t(No symbol) [0x0063D960]\n\t(No symbol) [0x006A7A23]\n\t(No symbol) [0x0068FD7C]\n\t(No symbol) [0x006A6B09]\n\t(No symbol) [0x0068FB76]\n\t(No symbol) [0x006649C1]\n\t(No symbol) [0x00665E5D]\n\tGetHandleVerifier [0x00A1A142+2497106]\n\tGetHandleVerifier [0x00A485D3+2686691]\n\tGetHandleVerifier [0x00A4BB9C+2700460]\n\tGetHandleVerifier [0x00853B10+635936]\n\t(No symbol) [0x00744A1F]\n\t(No symbol) [0x0074A418]\n\t(No symbol) [0x0074A505]\n\t(No symbol) [0x0075508B]\n\tBaseThreadInitThunk [0x763E6BD9+25]\n\tRtlGetFullPathName_UEx [0x77598FD2+1218]\n\tRtlGetFullPathName_UEx [0x77598F9D+1165]\n"
     ]
    }
   ],
   "source": [
    "\n",
    "for i in range(0,24561 + 1):\n",
    "    # print(f\"{i}\",end='')\n",
    "\n",
    "\n",
    "    data = driver.execute_script(jsDetailByTypeCodeReq(i))\n",
    "\n",
    "    f.write(data + ',')\n",
    "    # with open(f'./d.json', 'a', encoding='utf8') as f:\n",
    "    #     f.write(data + ',')\n",
    "\n",
    "\n"
   ]
  },
  {
   "cell_type": "code",
   "execution_count": 53,
   "metadata": {},
   "outputs": [
    {
     "data": {
      "text/plain": [
       "1"
      ]
     },
     "execution_count": 53,
     "metadata": {},
     "output_type": "execute_result"
    }
   ],
   "source": [
    "f.write(']')\n"
   ]
  },
  {
   "cell_type": "code",
   "execution_count": 54,
   "metadata": {},
   "outputs": [],
   "source": [
    "f.close()"
   ]
  }
 ],
 "metadata": {
  "kernelspec": {
   "display_name": "Python 3",
   "language": "python",
   "name": "python3"
  },
  "language_info": {
   "codemirror_mode": {
    "name": "ipython",
    "version": 3
   },
   "file_extension": ".py",
   "mimetype": "text/x-python",
   "name": "python",
   "nbconvert_exporter": "python",
   "pygments_lexer": "ipython3",
   "version": "3.11.1"
  },
  "orig_nbformat": 4,
  "vscode": {
   "interpreter": {
    "hash": "4bcea2a0b46432e51ff2edbf9987a2fe9be00450205bd7118a30af45dceb8195"
   }
  }
 },
 "nbformat": 4,
 "nbformat_minor": 2
}
