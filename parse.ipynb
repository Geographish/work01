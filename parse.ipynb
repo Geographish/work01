{
 "cells": [
  {
   "cell_type": "code",
   "execution_count": 1,
   "metadata": {},
   "outputs": [],
   "source": [
    "import json \n",
    "import os\n",
    "from operator import itemgetter, attrgetter\n"
   ]
  },
  {
   "attachments": {},
   "cell_type": "markdown",
   "metadata": {},
   "source": [
    "24561 <- objectData.json\n",
    "24562 <- d.json"
   ]
  },
  {
   "cell_type": "code",
   "execution_count": 2,
   "metadata": {},
   "outputs": [],
   "source": [
    "fj = list(filter(lambda fileName: \"json\" in fileName and \"objectData\" not in fileName and \"d.json\" not in fileName and \"b.json\" not in fileName,os.listdir(\"./\")))\n",
    "# print(list(fj))"
   ]
  },
  {
   "cell_type": "code",
   "execution_count": 3,
   "metadata": {},
   "outputs": [
    {
     "name": "stdout",
     "output_type": "stream",
     "text": [
      "1-4512.json\n",
      "4513-5135.json\n",
      "5136-5156.json\n",
      "5157.json\n"
     ]
    }
   ],
   "source": [
    "for fileName in fj:\n",
    "    print(fileName)"
   ]
  },
  {
   "cell_type": "code",
   "execution_count": 11,
   "metadata": {},
   "outputs": [
    {
     "name": "stdout",
     "output_type": "stream",
     "text": [
      "24562\n",
      "24562\n"
     ]
    }
   ],
   "source": [
    "data = []\n",
    "\n",
    "for fileName in fj:\n",
    "    with open(fileName, 'r', encoding='utf8') as f:\n",
    "        data.extend(json.loads(f.read()))\n",
    "\n",
    "d = []\n",
    "for item in data:\n",
    "    d.extend(item)\n",
    "\n",
    "\n",
    "data = d\n",
    "del d"
   ]
  },
  {
   "cell_type": "code",
   "execution_count": null,
   "metadata": {},
   "outputs": [],
   "source": [
    "data"
   ]
  },
  {
   "cell_type": "code",
   "execution_count": 33,
   "metadata": {},
   "outputs": [],
   "source": [
    "with open(\"./d.json\", 'w', encoding='utf8') as f:\n",
    "    f.write(json.dumps(data))"
   ]
  }
 ],
 "metadata": {
  "kernelspec": {
   "display_name": "Python 3",
   "language": "python",
   "name": "python3"
  },
  "language_info": {
   "codemirror_mode": {
    "name": "ipython",
    "version": 3
   },
   "file_extension": ".py",
   "mimetype": "text/x-python",
   "name": "python",
   "nbconvert_exporter": "python",
   "pygments_lexer": "ipython3",
   "version": "3.11.1"
  },
  "orig_nbformat": 4,
  "vscode": {
   "interpreter": {
    "hash": "4bcea2a0b46432e51ff2edbf9987a2fe9be00450205bd7118a30af45dceb8195"
   }
  }
 },
 "nbformat": 4,
 "nbformat_minor": 2
}
