{
 "cells": [
  {
   "cell_type": "code",
   "execution_count": 1,
   "metadata": {},
   "outputs": [],
   "source": [
    "import json \n",
    "import os\n"
   ]
  },
  {
   "attachments": {},
   "cell_type": "markdown",
   "metadata": {},
   "source": [
    "24561 <- objectData.json\n",
    "24562 <- d.json"
   ]
  },
  {
   "cell_type": "code",
   "execution_count": 3,
   "metadata": {},
   "outputs": [],
   "source": [
    "wf = ['1-4512.json', '4513-5135.json', '5136-5156.json', '5157.json']"
   ]
  },
  {
   "cell_type": "code",
   "execution_count": 5,
   "metadata": {},
   "outputs": [],
   "source": [
    "# for fileName in wf:\n",
    "#     print(fileName)"
   ]
  },
  {
   "cell_type": "code",
   "execution_count": 11,
   "metadata": {},
   "outputs": [
    {
     "name": "stdout",
     "output_type": "stream",
     "text": [
      "24562\n",
      "24562\n"
     ]
    }
   ],
   "source": [
    "data = []\n",
    "\n",
    "for fileName in wf:\n",
    "    with open(fileName, 'r', encoding='utf8') as f:\n",
    "        data.extend(json.loads(f.read()))\n",
    "\n",
    "d = []\n",
    "for item in data:\n",
    "    d.extend(item)\n",
    "#去掉中括號\n",
    "\n",
    "\n",
    "data = d\n",
    "del d"
   ]
  },
  {
   "cell_type": "code",
   "execution_count": null,
   "metadata": {},
   "outputs": [],
   "source": [
    "data"
   ]
  },
  {
   "cell_type": "code",
   "execution_count": 33,
   "metadata": {},
   "outputs": [],
   "source": [
    "with open(\"./d.json\", 'w', encoding='utf8') as f:\n",
    "    f.write(json.dumps(data))"
   ]
  }
 ],
 "metadata": {
  "kernelspec": {
   "display_name": "Python 3",
   "language": "python",
   "name": "python3"
  },
  "language_info": {
   "codemirror_mode": {
    "name": "ipython",
    "version": 3
   },
   "file_extension": ".py",
   "mimetype": "text/x-python",
   "name": "python",
   "nbconvert_exporter": "python",
   "pygments_lexer": "ipython3",
   "version": "3.11.1"
  },
  "orig_nbformat": 4,
  "vscode": {
   "interpreter": {
    "hash": "4bcea2a0b46432e51ff2edbf9987a2fe9be00450205bd7118a30af45dceb8195"
   }
  }
 },
 "nbformat": 4,
 "nbformat_minor": 2
}
